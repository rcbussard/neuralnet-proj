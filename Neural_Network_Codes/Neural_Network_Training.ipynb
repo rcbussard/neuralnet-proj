{
  "nbformat": 4,
  "nbformat_minor": 0,
  "metadata": {
    "colab": {
      "provenance": []
    },
    "kernelspec": {
      "name": "python3",
      "display_name": "Python 3"
    },
    "language_info": {
      "name": "python"
    }
  },
  "cells": [
    {
      "cell_type": "markdown",
      "source": [
        "# 2.0 Neural Network Training and Image Classification\n",
        "\n",
        "This notebook will run you through the following:\n",
        "\n",
        "*   Loading in downloaded optical data as well as label file created from previous notebook\n",
        "*   Prepping the data to be read into the Neural Network (NN)\n",
        "*   Splitting the data into training, validation, and testing data for the NN\n",
        "*   Constructing, training and running the NN on test data\n",
        "\n",
        "If you haven't done so already, make sure Google Drive is mounted to this notebook by clicking on the folder icon located in the vertical toolbar on the left side of the screen and then clicking on the folder icon with the Google Drive symbol on it.\n",
        "\n",
        "\n"
      ],
      "metadata": {
        "id": "URMkTGX4WBKp"
      }
    },
    {
      "cell_type": "markdown",
      "source": [
        "## 2.1 Setup\n",
        "\n",
        "In the following cells, we will install and import the packages we're planning to use for this notebook. These include pyrsgis which is for working with raster data, and scikit-learn and tensorflow which are used for NN construction and prep."
      ],
      "metadata": {
        "id": "0E-F3LScW8RG"
      }
    },
    {
      "cell_type": "code",
      "execution_count": 1,
      "metadata": {
        "id": "8CrNV-e3N0Ty",
        "colab": {
          "base_uri": "https://localhost:8080/"
        },
        "outputId": "16665dab-d3f3-4c86-e747-d4852b90a85a"
      },
      "outputs": [
        {
          "output_type": "stream",
          "name": "stdout",
          "text": [
            "Collecting pyrsgis\n",
            "  Downloading pyrsgis-0.4.1-py3-none-any.whl (25 kB)\n",
            "Installing collected packages: pyrsgis\n",
            "Successfully installed pyrsgis-0.4.1\n",
            "Requirement already satisfied: scikit-learn in /usr/local/lib/python3.10/dist-packages (1.2.2)\n",
            "Requirement already satisfied: numpy>=1.17.3 in /usr/local/lib/python3.10/dist-packages (from scikit-learn) (1.23.5)\n",
            "Requirement already satisfied: scipy>=1.3.2 in /usr/local/lib/python3.10/dist-packages (from scikit-learn) (1.11.4)\n",
            "Requirement already satisfied: joblib>=1.1.1 in /usr/local/lib/python3.10/dist-packages (from scikit-learn) (1.3.2)\n",
            "Requirement already satisfied: threadpoolctl>=2.0.0 in /usr/local/lib/python3.10/dist-packages (from scikit-learn) (3.2.0)\n",
            "Requirement already satisfied: tensorflow in /usr/local/lib/python3.10/dist-packages (2.15.0)\n",
            "Requirement already satisfied: absl-py>=1.0.0 in /usr/local/lib/python3.10/dist-packages (from tensorflow) (1.4.0)\n",
            "Requirement already satisfied: astunparse>=1.6.0 in /usr/local/lib/python3.10/dist-packages (from tensorflow) (1.6.3)\n",
            "Requirement already satisfied: flatbuffers>=23.5.26 in /usr/local/lib/python3.10/dist-packages (from tensorflow) (23.5.26)\n",
            "Requirement already satisfied: gast!=0.5.0,!=0.5.1,!=0.5.2,>=0.2.1 in /usr/local/lib/python3.10/dist-packages (from tensorflow) (0.5.4)\n",
            "Requirement already satisfied: google-pasta>=0.1.1 in /usr/local/lib/python3.10/dist-packages (from tensorflow) (0.2.0)\n",
            "Requirement already satisfied: h5py>=2.9.0 in /usr/local/lib/python3.10/dist-packages (from tensorflow) (3.9.0)\n",
            "Requirement already satisfied: libclang>=13.0.0 in /usr/local/lib/python3.10/dist-packages (from tensorflow) (16.0.6)\n",
            "Requirement already satisfied: ml-dtypes~=0.2.0 in /usr/local/lib/python3.10/dist-packages (from tensorflow) (0.2.0)\n",
            "Requirement already satisfied: numpy<2.0.0,>=1.23.5 in /usr/local/lib/python3.10/dist-packages (from tensorflow) (1.23.5)\n",
            "Requirement already satisfied: opt-einsum>=2.3.2 in /usr/local/lib/python3.10/dist-packages (from tensorflow) (3.3.0)\n",
            "Requirement already satisfied: packaging in /usr/local/lib/python3.10/dist-packages (from tensorflow) (23.2)\n",
            "Requirement already satisfied: protobuf!=4.21.0,!=4.21.1,!=4.21.2,!=4.21.3,!=4.21.4,!=4.21.5,<5.0.0dev,>=3.20.3 in /usr/local/lib/python3.10/dist-packages (from tensorflow) (3.20.3)\n",
            "Requirement already satisfied: setuptools in /usr/local/lib/python3.10/dist-packages (from tensorflow) (67.7.2)\n",
            "Requirement already satisfied: six>=1.12.0 in /usr/local/lib/python3.10/dist-packages (from tensorflow) (1.16.0)\n",
            "Requirement already satisfied: termcolor>=1.1.0 in /usr/local/lib/python3.10/dist-packages (from tensorflow) (2.4.0)\n",
            "Requirement already satisfied: typing-extensions>=3.6.6 in /usr/local/lib/python3.10/dist-packages (from tensorflow) (4.5.0)\n",
            "Requirement already satisfied: wrapt<1.15,>=1.11.0 in /usr/local/lib/python3.10/dist-packages (from tensorflow) (1.14.1)\n",
            "Requirement already satisfied: tensorflow-io-gcs-filesystem>=0.23.1 in /usr/local/lib/python3.10/dist-packages (from tensorflow) (0.35.0)\n",
            "Requirement already satisfied: grpcio<2.0,>=1.24.3 in /usr/local/lib/python3.10/dist-packages (from tensorflow) (1.60.0)\n",
            "Requirement already satisfied: tensorboard<2.16,>=2.15 in /usr/local/lib/python3.10/dist-packages (from tensorflow) (2.15.1)\n",
            "Requirement already satisfied: tensorflow-estimator<2.16,>=2.15.0 in /usr/local/lib/python3.10/dist-packages (from tensorflow) (2.15.0)\n",
            "Requirement already satisfied: keras<2.16,>=2.15.0 in /usr/local/lib/python3.10/dist-packages (from tensorflow) (2.15.0)\n",
            "Requirement already satisfied: wheel<1.0,>=0.23.0 in /usr/local/lib/python3.10/dist-packages (from astunparse>=1.6.0->tensorflow) (0.42.0)\n",
            "Requirement already satisfied: google-auth<3,>=1.6.3 in /usr/local/lib/python3.10/dist-packages (from tensorboard<2.16,>=2.15->tensorflow) (2.17.3)\n",
            "Requirement already satisfied: google-auth-oauthlib<2,>=0.5 in /usr/local/lib/python3.10/dist-packages (from tensorboard<2.16,>=2.15->tensorflow) (1.2.0)\n",
            "Requirement already satisfied: markdown>=2.6.8 in /usr/local/lib/python3.10/dist-packages (from tensorboard<2.16,>=2.15->tensorflow) (3.5.2)\n",
            "Requirement already satisfied: requests<3,>=2.21.0 in /usr/local/lib/python3.10/dist-packages (from tensorboard<2.16,>=2.15->tensorflow) (2.31.0)\n",
            "Requirement already satisfied: tensorboard-data-server<0.8.0,>=0.7.0 in /usr/local/lib/python3.10/dist-packages (from tensorboard<2.16,>=2.15->tensorflow) (0.7.2)\n",
            "Requirement already satisfied: werkzeug>=1.0.1 in /usr/local/lib/python3.10/dist-packages (from tensorboard<2.16,>=2.15->tensorflow) (3.0.1)\n",
            "Requirement already satisfied: cachetools<6.0,>=2.0.0 in /usr/local/lib/python3.10/dist-packages (from google-auth<3,>=1.6.3->tensorboard<2.16,>=2.15->tensorflow) (5.3.2)\n",
            "Requirement already satisfied: pyasn1-modules>=0.2.1 in /usr/local/lib/python3.10/dist-packages (from google-auth<3,>=1.6.3->tensorboard<2.16,>=2.15->tensorflow) (0.3.0)\n",
            "Requirement already satisfied: rsa<5,>=3.1.4 in /usr/local/lib/python3.10/dist-packages (from google-auth<3,>=1.6.3->tensorboard<2.16,>=2.15->tensorflow) (4.9)\n",
            "Requirement already satisfied: requests-oauthlib>=0.7.0 in /usr/local/lib/python3.10/dist-packages (from google-auth-oauthlib<2,>=0.5->tensorboard<2.16,>=2.15->tensorflow) (1.3.1)\n",
            "Requirement already satisfied: charset-normalizer<4,>=2 in /usr/local/lib/python3.10/dist-packages (from requests<3,>=2.21.0->tensorboard<2.16,>=2.15->tensorflow) (3.3.2)\n",
            "Requirement already satisfied: idna<4,>=2.5 in /usr/local/lib/python3.10/dist-packages (from requests<3,>=2.21.0->tensorboard<2.16,>=2.15->tensorflow) (3.6)\n",
            "Requirement already satisfied: urllib3<3,>=1.21.1 in /usr/local/lib/python3.10/dist-packages (from requests<3,>=2.21.0->tensorboard<2.16,>=2.15->tensorflow) (2.0.7)\n",
            "Requirement already satisfied: certifi>=2017.4.17 in /usr/local/lib/python3.10/dist-packages (from requests<3,>=2.21.0->tensorboard<2.16,>=2.15->tensorflow) (2023.11.17)\n",
            "Requirement already satisfied: MarkupSafe>=2.1.1 in /usr/local/lib/python3.10/dist-packages (from werkzeug>=1.0.1->tensorboard<2.16,>=2.15->tensorflow) (2.1.4)\n",
            "Requirement already satisfied: pyasn1<0.6.0,>=0.4.6 in /usr/local/lib/python3.10/dist-packages (from pyasn1-modules>=0.2.1->google-auth<3,>=1.6.3->tensorboard<2.16,>=2.15->tensorflow) (0.5.1)\n",
            "Requirement already satisfied: oauthlib>=3.0.0 in /usr/local/lib/python3.10/dist-packages (from requests-oauthlib>=0.7.0->google-auth-oauthlib<2,>=0.5->tensorboard<2.16,>=2.15->tensorflow) (3.2.2)\n"
          ]
        }
      ],
      "source": [
        "#Install Packages\n",
        "\n",
        "!pip install pyrsgis\n",
        "!pip install scikit-learn\n",
        "!pip install tensorflow"
      ]
    },
    {
      "cell_type": "code",
      "source": [
        "#Import Modules\n",
        "\n",
        "from osgeo import gdal\n",
        "from pyrsgis import raster\n",
        "import numpy as np\n",
        "import pickle\n",
        "import matplotlib.pyplot as plt\n",
        "from sklearn.model_selection import train_test_split"
      ],
      "metadata": {
        "id": "SfW_BBLxN73S"
      },
      "execution_count": 2,
      "outputs": []
    },
    {
      "cell_type": "markdown",
      "source": [
        "## 2.2 Prepare Training Data\n",
        "\n",
        "We will now read in the different bands (in this case bands 2-7 for Landsat 8) for the optical acquisition we've chosen as our training image.\n",
        "\n",
        "**Note: when choosing a training image for snow cover, you might have to view the land cover file to see what season it shows and pick an acquisition from that season. For example, the NLCD shows perennial snow, which at a place like Mt. St. Helens means long lasting snow that is present even in the summer/early fall months. That is why the example training image is from September 13, 2016.**"
      ],
      "metadata": {
        "id": "vVpK6mU6XZZF"
      }
    },
    {
      "cell_type": "code",
      "source": [
        "#Read in Training Data\n",
        "\n",
        "B2_train = gdal.Open('/content/drive/MyDrive/NOTEBOOK_TEST_FOLDER/MSH_SR_B2_2016-09-13.tif')\n",
        "B3_train = gdal.Open('/content/drive/MyDrive/NOTEBOOK_TEST_FOLDER/MSH_SR_B3_2016-09-13.tif')\n",
        "B4_train = gdal.Open('/content/drive/MyDrive/NOTEBOOK_TEST_FOLDER/MSH_SR_B4_2016-09-13.tif')\n",
        "B5_train = gdal.Open('/content/drive/MyDrive/NOTEBOOK_TEST_FOLDER/MSH_SR_B5_2016-09-13.tif')\n",
        "B6_train = gdal.Open('/content/drive/MyDrive/NOTEBOOK_TEST_FOLDER/MSH_SR_B6_2016-09-13.tif')\n",
        "B7_train = gdal.Open('/content/drive/MyDrive/NOTEBOOK_TEST_FOLDER/MSH_SR_B7_2016-09-13.tif')"
      ],
      "metadata": {
        "id": "1HHU1gypOB1T"
      },
      "execution_count": 3,
      "outputs": []
    },
    {
      "cell_type": "code",
      "source": [
        "#Read in Label File\n",
        "\n",
        "label_file = gdal.Open('/content/drive/MyDrive/LandCover_CROP/snow_label.tif')"
      ],
      "metadata": {
        "id": "wgAZ-Qv9OMFS"
      },
      "execution_count": 4,
      "outputs": []
    },
    {
      "cell_type": "markdown",
      "source": [
        "We will then convert the rasters of optical band data and the label file to two dimensional arrays."
      ],
      "metadata": {
        "id": "2cHGoPa7ddi4"
      }
    },
    {
      "cell_type": "code",
      "source": [
        "#Convert Raster to Array\n",
        "\n",
        "B2_vals = B2_train.GetRasterBand(1)\n",
        "band_2 = B2_vals.ReadAsArray()\n",
        "\n",
        "B3_vals = B3_train.GetRasterBand(1)\n",
        "band_3 = B3_vals.ReadAsArray()\n",
        "\n",
        "B4_vals = B4_train.GetRasterBand(1)\n",
        "band_4 = B4_vals.ReadAsArray()\n",
        "\n",
        "B5_vals = B5_train.GetRasterBand(1)\n",
        "band_5 = B5_vals.ReadAsArray()\n",
        "\n",
        "B6_vals = B6_train.GetRasterBand(1)\n",
        "band_6 = B6_vals.ReadAsArray()\n",
        "\n",
        "B7_vals = B7_train.GetRasterBand(1)\n",
        "band_7 = B7_vals.ReadAsArray()"
      ],
      "metadata": {
        "id": "-ZEknpifB7J2"
      },
      "execution_count": 5,
      "outputs": []
    },
    {
      "cell_type": "code",
      "source": [
        "label_vals = label_file.GetRasterBand(1)\n",
        "label_band = label_vals.ReadAsArray()"
      ],
      "metadata": {
        "id": "ZpNYBCH6CC9Y"
      },
      "execution_count": 6,
      "outputs": []
    },
    {
      "cell_type": "markdown",
      "source": [
        "To read in to the neural network, the band data must be converted to a one dimensional matrix with each band stacked as layers. We use the ravel() command to produce 1D arrays of each band and the label file. Then we combine all of these arrays together."
      ],
      "metadata": {
        "id": "FsSmWp9kdudu"
      }
    },
    {
      "cell_type": "code",
      "source": [
        "band_2_1d = band_2.ravel()\n",
        "band_3_1d = band_3.ravel()\n",
        "band_4_1d = band_4.ravel()\n",
        "band_5_1d = band_5.ravel()\n",
        "band_6_1d = band_6.ravel()\n",
        "band_7_1d = band_7.ravel()"
      ],
      "metadata": {
        "id": "3ahKOYTZCOWx"
      },
      "execution_count": 7,
      "outputs": []
    },
    {
      "cell_type": "code",
      "source": [
        "label_1d = label_band.ravel()"
      ],
      "metadata": {
        "id": "HzkAzTTYCS-T"
      },
      "execution_count": 8,
      "outputs": []
    },
    {
      "cell_type": "code",
      "source": [
        "#Combine Arrays and Normalize for NN Read In\n",
        "\n",
        "combined_vals = np.array([band_2_1d,band_3_1d,band_4_1d,band_5_1d,band_6_1d,band_7_1d])\n",
        "index_vals = np.swapaxes(combined_vals, 0, 1)"
      ],
      "metadata": {
        "id": "JKyHC7P9CbKq"
      },
      "execution_count": 9,
      "outputs": []
    },
    {
      "cell_type": "markdown",
      "source": [
        "When you run the below cell, the first output should show two dimensions, the first indicating how many pixels are in one band of your training image (the length x width) and the second indicating how many bands you're using (in the example case it should read 6). The second output should be one value that matches the number of pixels from the first output."
      ],
      "metadata": {
        "id": "Wr2YoLNLeyI6"
      }
    },
    {
      "cell_type": "code",
      "source": [
        "print(index_vals.shape)\n",
        "print(label_1d.shape)"
      ],
      "metadata": {
        "id": "8O2PnlnCCdkH",
        "colab": {
          "base_uri": "https://localhost:8080/"
        },
        "outputId": "caea4909-42f5-47aa-b55b-9e5dc44e3b21"
      },
      "execution_count": 10,
      "outputs": [
        {
          "output_type": "stream",
          "name": "stdout",
          "text": [
            "(3775536, 6)\n",
            "(3775536,)\n"
          ]
        }
      ]
    },
    {
      "cell_type": "markdown",
      "source": [
        "We then normalize the training data and the label file by the maximum values their file format can take."
      ],
      "metadata": {
        "id": "leq-rpOafNZr"
      }
    },
    {
      "cell_type": "code",
      "source": [
        "index_vals_normed = index_vals / 65455.0  #65455.0 is the maximum value Landsat 8 Surface Reflectance Bands can measure\n",
        "label_1d_normed = label_1d / 255.0        #255 is the maximum value produced by saving the label file as a raster"
      ],
      "metadata": {
        "id": "cdxCc65TCgSZ"
      },
      "execution_count": 11,
      "outputs": []
    },
    {
      "cell_type": "markdown",
      "source": [
        "## 2.3 Split Training Data into Model Training and Model Testing Data\n",
        "\n",
        "This marks the beginning of decisions we can make when constructing our neural network. We must first choose how we want to split the available pixels in our chosen training image between pixels used for training the neural network and pixels used for testing the neural network's accuracy."
      ],
      "metadata": {
        "id": "MqAc5TNbgJNT"
      }
    },
    {
      "cell_type": "code",
      "source": [
        "TS = 0.2    # percentage of data that will be used for testing the Neural Network, can be any decimal between 0 and 1\n",
        "RS = 42     # random state that the model starts on as decided by integer value"
      ],
      "metadata": {
        "id": "yDMG0MTm8Nii"
      },
      "execution_count": 12,
      "outputs": []
    },
    {
      "cell_type": "markdown",
      "source": [
        "We will use the train_test_split command from sklearn to split our data based off our chosen percentage."
      ],
      "metadata": {
        "id": "oNzvaIlX8LwU"
      }
    },
    {
      "cell_type": "code",
      "source": [
        "xTrain, xTest, yTrain, yTest = train_test_split(index_vals_normed, label_1d_normed, test_size=TS, random_state=RS)"
      ],
      "metadata": {
        "id": "LuKAkdOSCgzU"
      },
      "execution_count": 13,
      "outputs": []
    },
    {
      "cell_type": "markdown",
      "source": [
        "After splitting our data, our xTrain and yTrain should have the same amount of pixels (xTrain having six bands' worth and yTrain having one because it is for the label file). Similarly, xTest and yTest should have the same amount of pixels."
      ],
      "metadata": {
        "id": "3PUoSaEE9Ah3"
      }
    },
    {
      "cell_type": "code",
      "source": [
        "print(xTrain.shape)\n",
        "print(yTrain.shape)"
      ],
      "metadata": {
        "id": "jJbCIVsDCugY",
        "colab": {
          "base_uri": "https://localhost:8080/"
        },
        "outputId": "a766a918-105b-44aa-a425-5f5c451019f6"
      },
      "execution_count": 14,
      "outputs": [
        {
          "output_type": "stream",
          "name": "stdout",
          "text": [
            "(2265321, 6)\n",
            "(2265321,)\n"
          ]
        }
      ]
    },
    {
      "cell_type": "code",
      "source": [
        "print(xTest.shape)\n",
        "print(yTest.shape)"
      ],
      "metadata": {
        "id": "kjRRbcc8CtOc",
        "colab": {
          "base_uri": "https://localhost:8080/"
        },
        "outputId": "946363ba-80dc-4f21-ce31-0d295641da00"
      },
      "execution_count": 15,
      "outputs": [
        {
          "output_type": "stream",
          "name": "stdout",
          "text": [
            "(1510215, 6)\n",
            "(1510215,)\n"
          ]
        }
      ]
    },
    {
      "cell_type": "code",
      "source": [
        "xTrain = xTrain.reshape((xTrain.shape[0],1,xTrain.shape[1]))\n",
        "xTest = xTest.reshape((xTest.shape[0],1,xTest.shape[1]))\n",
        "\n",
        "print(xTrain.shape, xTest.shape)"
      ],
      "metadata": {
        "id": "w95iH5yBDGA4",
        "colab": {
          "base_uri": "https://localhost:8080/"
        },
        "outputId": "aba46a46-1c3f-44bb-9e68-493c1d008e24"
      },
      "execution_count": 16,
      "outputs": [
        {
          "output_type": "stream",
          "name": "stdout",
          "text": [
            "(2265321, 1, 6) (1510215, 1, 6)\n"
          ]
        }
      ]
    },
    {
      "cell_type": "markdown",
      "source": [
        "## 2.4 Set Up and Train the Neural Network\n",
        "\n",
        "We will now set up the neural network to use for image classification. There are a variety of choices that can be made when constructing the NN. We will touch on some of them here, but there will be additional resources to explore further options.\n",
        "\n",
        "First we will import keras (a Python API for interfacing with artificial neural networks) from tensorflow. To learn more about keras, click here: https://keras.io/api/"
      ],
      "metadata": {
        "id": "wsh3grXlL_Eo"
      }
    },
    {
      "cell_type": "code",
      "source": [
        "from tensorflow import keras"
      ],
      "metadata": {
        "id": "eWuWW-1aM-gz"
      },
      "execution_count": 17,
      "outputs": []
    },
    {
      "cell_type": "markdown",
      "source": [
        "For the neural network model, we will need to set up the following:\n",
        "1.   The input layer that reads in data\n",
        "2.   The hidden layer\n",
        "3.   The output layer that produces the classified snow cover data\n",
        "\n",
        "For the hidden and output layer, we have to decide which activation function we want to use. Put very simply, the role of an activation function is to produce output from a set of input values fed to a node or a layer.\n",
        "\n",
        "There are a variety of activation functions to choose from in keras: https://keras.io/api/layers/activations/\n",
        "\n",
        "For the example setup in this notebook, the hidden layer will have an activation function of ReLU and the output layer will have a softmax activation function."
      ],
      "metadata": {
        "id": "j5BYR4gUsi3l"
      }
    },
    {
      "cell_type": "code",
      "source": [
        "hidden_act = 'relu'     # ReLU is a fast and reliable activation function that decreases computing time\n",
        "output_act = 'softmax'  # Softmax is often used as the last layer in classification b/c its outputs are probability values"
      ],
      "metadata": {
        "id": "UtycCzI7vQVL"
      },
      "execution_count": 18,
      "outputs": []
    },
    {
      "cell_type": "markdown",
      "source": [
        "We also need to choose how many nodes will make up each layer. For the output layer, we will select two, one that will say the probability of snow cover in a pixel and one that will say the probability of no snow cover in a pixel. For the hidden layer, this requires more fine tuning, as there is no set number of nodes a hidden layer has to have. Rather, it is better to test different quantities of nodes and see which number minimizes the loss. There will be more on this later, but for now the first guess at number of nodes for the hidden layer can be input."
      ],
      "metadata": {
        "id": "fvYWDzPUwIIu"
      }
    },
    {
      "cell_type": "code",
      "source": [
        "hidden_nodes = 20\n",
        "output_nodes = 2"
      ],
      "metadata": {
        "id": "o5j-PeZaxHHM"
      },
      "execution_count": 19,
      "outputs": []
    },
    {
      "cell_type": "markdown",
      "source": [
        "We also need to choose the optimizer and the loss function for the neural network. Optimizers help change weights between nodes to help the neural network train, while the loss function measures how well the neural network models the training data.\n",
        "\n",
        "To see the optimizers keras has available click here:\n",
        "https://keras.io/api/optimizers/\n",
        "\n",
        "To see the loss functions keras has available click here:\n",
        "https://keras.io/api/losses/\n"
      ],
      "metadata": {
        "id": "KS0VFaz4D-lw"
      }
    },
    {
      "cell_type": "code",
      "source": [
        "OPT = \"adam\"\n",
        "LOSS_F = \"sparse_categorical_crossentropy\""
      ],
      "metadata": {
        "id": "j0H8NWRhEwO-"
      },
      "execution_count": 20,
      "outputs": []
    },
    {
      "cell_type": "markdown",
      "source": [
        "We will then choose the number of epochs (iterations through the training data) as well as the split of training data between training and validation. These are also different values that can be changed to minimize error of the model."
      ],
      "metadata": {
        "id": "1nudQFImHGzB"
      }
    },
    {
      "cell_type": "code",
      "source": [
        "EPOCH_NUM = 3     # input is an integer\n",
        "VAL_SPLIT = 0.2   # input is a decimal between 0 and 1, this is the percentage"
      ],
      "metadata": {
        "id": "gm7aMMmlHP7D"
      },
      "execution_count": 21,
      "outputs": []
    },
    {
      "cell_type": "markdown",
      "source": [
        "We then set up the model and run the training."
      ],
      "metadata": {
        "id": "saMuD8XYGQ15"
      }
    },
    {
      "cell_type": "code",
      "source": [
        "#Set Up Model\n",
        "\n",
        "model = keras.Sequential([\n",
        "    keras.layers.Flatten(input_shape=(1, 6)),\n",
        "    keras.layers.Dense(hidden_nodes, activation=hidden_act),\n",
        "    keras.layers.Dense(output_nodes, activation=output_act)])\n",
        "\n",
        "model.compile(optimizer=OPT, loss=LOSS_F,metrics=[\"accuracy\"])\n",
        "\n",
        "hist = model.fit(xTrain,yTrain,epochs=EPOCH_NUM,validation_split=VAL_SPLIT)"
      ],
      "metadata": {
        "id": "DtGSMkSkEEL_",
        "colab": {
          "base_uri": "https://localhost:8080/"
        },
        "outputId": "d9251b67-0aa5-4dc2-a446-e9b87a1d48fd"
      },
      "execution_count": 42,
      "outputs": [
        {
          "output_type": "stream",
          "name": "stdout",
          "text": [
            "Epoch 1/3\n",
            "56633/56633 [==============================] - 106s 2ms/step - loss: 0.0035 - accuracy: 0.9992 - val_loss: 7.0137e-04 - val_accuracy: 0.9998\n",
            "Epoch 2/3\n",
            "56633/56633 [==============================] - 105s 2ms/step - loss: 8.2769e-04 - accuracy: 0.9998 - val_loss: 6.9563e-04 - val_accuracy: 0.9998\n",
            "Epoch 3/3\n",
            "56633/56633 [==============================] - 109s 2ms/step - loss: 8.1821e-04 - accuracy: 0.9998 - val_loss: 6.8576e-04 - val_accuracy: 0.9998\n"
          ]
        }
      ]
    },
    {
      "cell_type": "markdown",
      "source": [
        "## 2.4.1 Visualize Loss/Accuracy from Neural Network (Optional)\n",
        "\n",
        "To help determine if we need more or less epochs for our neural network, we can uncomment the follow commands and plot the loss of the model compared with the validation data loss. There should be a point at which the loss stabilizes which can indicate how many epochs we need, or if there is no stabilization then that could indicate more epochs are needed."
      ],
      "metadata": {
        "id": "3pgnpc7204FF"
      }
    },
    {
      "cell_type": "code",
      "source": [
        "with open('Training_Hist','wb') as file:\n",
        "  pickle.dump(hist.history, file)"
      ],
      "metadata": {
        "id": "fyrcdnb3HNzo"
      },
      "execution_count": 28,
      "outputs": []
    },
    {
      "cell_type": "code",
      "source": [
        "plt.plot(hist.history['loss'])\n",
        "plt.plot(hist.history['val_loss'])"
      ],
      "metadata": {
        "colab": {
          "base_uri": "https://localhost:8080/",
          "height": 448
        },
        "id": "Pa_ADV9hbvxA",
        "outputId": "94664ada-f917-4a6d-bf85-8769e9dbb329"
      },
      "execution_count": 43,
      "outputs": [
        {
          "output_type": "execute_result",
          "data": {
            "text/plain": [
              "[<matplotlib.lines.Line2D at 0x7e053c523a90>]"
            ]
          },
          "metadata": {},
          "execution_count": 43
        },
        {
          "output_type": "display_data",
          "data": {
            "text/plain": [
              "<Figure size 640x480 with 1 Axes>"
            ],
            "image/png": "[encoded data removed]"
          },
          "metadata": {}
        }
      ]
    },
    {
      "cell_type": "code",
      "source": [
        "plt.plot(hist.history['accuracy'])\n",
        "plt.plot(hist.history['val_accuracy'])"
      ],
      "metadata": {
        "colab": {
          "base_uri": "https://localhost:8080/",
          "height": 448
        },
        "id": "v-4V9287by1R",
        "outputId": "566f3594-8112-4a3f-e7bc-6880bf23f5e1"
      },
      "execution_count": 44,
      "outputs": [
        {
          "output_type": "execute_result",
          "data": {
            "text/plain": [
              "[<matplotlib.lines.Line2D at 0x7e053c5e0580>]"
            ]
          },
          "metadata": {},
          "execution_count": 44
        },
        {
          "output_type": "display_data",
          "data": {
            "text/plain": [
              "<Figure size 640x480 with 1 Axes>"
            ],
            "image/png": "[encoded data removed]"
          },
          "metadata": {}
        }
      ]
    },
    {
      "cell_type": "markdown",
      "source": [
        "## 2.4.2 Save and/or Load Model (Optional)\n",
        "\n",
        "If we want to save the model to load for future use, we can run the following command. This will save the model in the folder we set up in the previous notebook where our data and label file are stored."
      ],
      "metadata": {
        "id": "Wd6pDVvzHVv7"
      }
    },
    {
      "cell_type": "code",
      "source": [
        "#model.save('/content/drive/MyDrive/NOTEBOOK_TEST_FOLDER/NN_classify.keras')  #uncomment to run command"
      ],
      "metadata": {
        "id": "ZGiiIcoqHPsq"
      },
      "execution_count": 64,
      "outputs": []
    },
    {
      "cell_type": "markdown",
      "source": [
        "If we are returning to this notebook and want to load an already trained and saved model, we can run the following command. This will load the model saved in our selected folder from the previous command."
      ],
      "metadata": {
        "id": "njF10V3yIcDc"
      }
    },
    {
      "cell_type": "code",
      "source": [
        "#model = keras.models.load_model('/content/drive/MyDrive/NOTEBOOK_TEST_FOLDER/NN_classify.keras')   #uncomment to run command"
      ],
      "metadata": {
        "id": "WSFkRni1IoU8"
      },
      "execution_count": 19,
      "outputs": []
    },
    {
      "cell_type": "markdown",
      "source": [
        "## 2.5 Run the Neural Network Model on the Test Data ##\n",
        "\n",
        "We are now ready to run the model on the test data from the selected training image and analyze how well the model performs on data that is already classified."
      ],
      "metadata": {
        "id": "wMD2HUBvKYv0"
      }
    },
    {
      "cell_type": "code",
      "source": [
        "#Run Neural Network on Test Data\n",
        "\n",
        "from sklearn.metrics import confusion_matrix, precision_score, recall_score\n",
        "\n",
        "yTestPredicted = model.predict(xTest)\n",
        "yTestPredicted = yTestPredicted[:,1]"
      ],
      "metadata": {
        "id": "6Tc_uZMzESL6",
        "colab": {
          "base_uri": "https://localhost:8080/"
        },
        "outputId": "b32e7b80-1512-496c-91e2-3974f4615fe0"
      },
      "execution_count": 20,
      "outputs": [
        {
          "output_type": "stream",
          "name": "stdout",
          "text": [
            "47195/47195 [==============================] - 79s 2ms/step\n"
          ]
        }
      ]
    },
    {
      "cell_type": "markdown",
      "source": [
        "To test how well the model classified the test data, we can view the confusion matrix as well as the p-score and the r-score. The confusion matrix tells us how many pixels were correctly identified and how many were incorrectly identified, while the p-score and r-score indicate the utility of the model in terms of how well it correctly identified pixels."
      ],
      "metadata": {
        "id": "24pzC3M-vedU"
      }
    },
    {
      "cell_type": "code",
      "source": [
        "threshold = 0.8   # this can be altered depending on prediction value of interest"
      ],
      "metadata": {
        "id": "65PausYiv0MH"
      },
      "execution_count": 21,
      "outputs": []
    },
    {
      "cell_type": "code",
      "source": [
        "yTestPredicted = (yTestPredicted>threshold).astype(int)\n",
        "cMatrix = confusion_matrix(yTest, yTestPredicted)\n",
        "pScore = precision_score(yTest,yTestPredicted)\n",
        "rScore = recall_score(yTest,yTestPredicted)\n",
        "\n",
        "print(\"Confusion matrix: for 20 nodes\\n\", cMatrix)\n",
        "print(\"\\nP-Score: %.3f, R-Score: %.3f\" % (pScore, rScore))"
      ],
      "metadata": {
        "id": "MbFVASnfvNXe",
        "colab": {
          "base_uri": "https://localhost:8080/"
        },
        "outputId": "b5d3b760-73b8-45c1-8979-e742e752b5e7"
      },
      "execution_count": 22,
      "outputs": [
        {
          "output_type": "stream",
          "name": "stdout",
          "text": [
            "Confusion matrix: for 20 nodes\n",
            " [[1509823      30]\n",
            " [    251     111]]\n",
            "\n",
            "P-Score: 0.787, R-Score: 0.307\n"
          ]
        }
      ]
    },
    {
      "cell_type": "markdown",
      "source": [
        "## 2.6 Read in Data to Classify with Trained Neural Network\n",
        "\n",
        "Similar to our training image, we will do the following steps for the optical image we wish to classify snow cover for:\n",
        "\n",
        "*   Read in image band data\n",
        "*   Convert raster image band data to arrays\n",
        "*   Make arrays of image band data one-dimensional\n",
        "*   Stack 1D arrays together\n",
        "*   Normalize pixel values in 1D stacked array"
      ],
      "metadata": {
        "id": "a1ztq8jbq3J1"
      }
    },
    {
      "cell_type": "code",
      "source": [
        "# Read in Test Data for NN\n",
        "\n",
        "B2_test = gdal.Open('/content/drive/MyDrive/NOTEBOOK_TEST_FOLDER/MSH_SR_B2_2014-08-07.tif')\n",
        "B3_test = gdal.Open('/content/drive/MyDrive/NOTEBOOK_TEST_FOLDER/MSH_SR_B3_2014-08-07.tif')\n",
        "B4_test = gdal.Open('/content/drive/MyDrive/NOTEBOOK_TEST_FOLDER/MSH_SR_B4_2014-08-07.tif')\n",
        "B5_test = gdal.Open('/content/drive/MyDrive/NOTEBOOK_TEST_FOLDER/MSH_SR_B5_2014-08-07.tif')\n",
        "B6_test = gdal.Open('/content/drive/MyDrive/NOTEBOOK_TEST_FOLDER/MSH_SR_B6_2014-08-07.tif')\n",
        "B7_test = gdal.Open('/content/drive/MyDrive/NOTEBOOK_TEST_FOLDER/MSH_SR_B7_2014-08-07.tif')\n",
        "\n",
        "# Convert Raster Data to Array\n",
        "\n",
        "B2_tvals = B2_test.GetRasterBand(1)\n",
        "B2_tband = B2_tvals.ReadAsArray()\n",
        "\n",
        "B3_tvals = B3_test.GetRasterBand(1)\n",
        "B3_tband = B3_tvals.ReadAsArray()\n",
        "\n",
        "B4_tvals = B4_test.GetRasterBand(1)\n",
        "B4_tband = B4_tvals.ReadAsArray()\n",
        "\n",
        "B5_tvals = B5_test.GetRasterBand(1)\n",
        "B5_tband = B5_tvals.ReadAsArray()\n",
        "\n",
        "B6_tvals = B6_test.GetRasterBand(1)\n",
        "B6_tband = B6_tvals.ReadAsArray()\n",
        "\n",
        "B7_tvals = B7_test.GetRasterBand(1)\n",
        "B7_tband = B7_tvals.ReadAsArray()\n",
        "\n",
        "# Make Band Array Data 1D\n",
        "\n",
        "B2_1d_test = B2_tband.ravel()\n",
        "B3_1d_test = B3_tband.ravel()\n",
        "B4_1d_test = B4_tband.ravel()\n",
        "B5_1d_test = B5_tband.ravel()\n",
        "B6_1d_test = B6_tband.ravel()\n",
        "B7_1d_test = B7_tband.ravel()\n",
        "\n",
        "# Stack 1D Arrays Together\n",
        "\n",
        "combined_test_vals = np.array([B2_1d_test, B3_1d_test, B4_1d_test, B5_1d_test, B6_1d_test, B7_1d_test])\n",
        "index_test_vals = np.swapaxes(combined_test_vals, 0, 1)\n",
        "\n",
        "# Normalize Stacked Array Values\n",
        "\n",
        "index_test_vals = index_test_vals.reshape((index_test_vals.shape[0],1,index_test_vals.shape[1]))\n",
        "index_test_vals_normed = index_test_vals / 65455.0"
      ],
      "metadata": {
        "id": "Kl85gVLaqxt6"
      },
      "execution_count": 31,
      "outputs": []
    },
    {
      "cell_type": "markdown",
      "source": [
        "## 2.7 Run Neural Network Model on New Data\n",
        "\n",
        "We are now ready to run the model on new data to classify it for snow cover."
      ],
      "metadata": {
        "id": "qNQYLmrlzmqE"
      }
    },
    {
      "cell_type": "code",
      "source": [
        "predicted = model.predict(index_test_vals_normed)\n",
        "predicted = predicted[:,1]"
      ],
      "metadata": {
        "id": "-aiOYxbRGXby",
        "colab": {
          "base_uri": "https://localhost:8080/"
        },
        "outputId": "9867e742-ff6c-4e43-b2ec-605f0b8964f3"
      },
      "execution_count": 32,
      "outputs": [
        {
          "output_type": "stream",
          "name": "stdout",
          "text": [
            "117986/117986 [==============================] - 187s 2ms/step\n"
          ]
        }
      ]
    },
    {
      "cell_type": "markdown",
      "source": [
        "The last two cells below will shape the prediction to the dimensions of the original raster data and output a raster file with a name of our choosing."
      ],
      "metadata": {
        "id": "vyUp5ei40qha"
      }
    },
    {
      "cell_type": "code",
      "source": [
        "prediction = np.reshape(predicted, (B2_test.RasterYSize, B2_test.RasterXSize))"
      ],
      "metadata": {
        "id": "oCXXjBBaGX11"
      },
      "execution_count": 33,
      "outputs": []
    },
    {
      "cell_type": "code",
      "source": [
        "outFile = '/content/drive/MyDrive/NOTEBOOK_TEST_FOLDER/Prediction_Test0201_Snow_20140807.tif'\n",
        "raster.export(prediction, B2_test, filename=outFile, dtype='float')"
      ],
      "metadata": {
        "id": "pffTumnb0bPy"
      },
      "execution_count": 34,
      "outputs": []
    }
  ]
}